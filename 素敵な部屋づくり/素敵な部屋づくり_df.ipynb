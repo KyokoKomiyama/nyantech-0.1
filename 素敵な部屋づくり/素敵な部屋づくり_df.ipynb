{
 "cells": [
  {
   "cell_type": "code",
   "execution_count": 8,
   "id": "70d24d28-94ab-46da-8d52-d662f293396f",
   "metadata": {
    "tags": []
   },
   "outputs": [
    {
     "name": "stdout",
     "output_type": "stream",
     "text": [
      "           room-type    item        shop  \\\n",
      "0             Simple   インテリア     アイリスプラザ   \n",
      "1           Faminine   インテリア  Francfranc   \n",
      "2            Natural   インテリア        無印良品   \n",
      "3   Japanese Classic   インテリア     アイリスプラザ   \n",
      "4       Nordic style   インテリア       BRUNO   \n",
      "5             Modern   インテリア    アイリスオオヤマ   \n",
      "6             Simple   ペット用品     アイリスプラザ   \n",
      "7           Faminine  ファブリック  Francfranc   \n",
      "8            Natural  ファブリック        無印良品   \n",
      "9   Japanese Classic  ファブリック     アイリスプラザ   \n",
      "10      Nordic style    電化製品       BRUNO   \n",
      "11            Modern      食器    アイリスオオヤマ   \n",
      "\n",
      "                                                  URL  \n",
      "0   https://www.irisplaza.co.jp/index.php?KB=KAISO...  \n",
      "1                             https://francfranc.com/  \n",
      "2                    https://www.muji.com/jp/ja/store  \n",
      "3   https://www.irisplaza.co.jp/index.php?KB=KAISO...  \n",
      "4   https://bruno-onlineshop.com/category/SH_BR_PR...  \n",
      "5   https://www.irisplaza.co.jp/index.php?KB=KAISO...  \n",
      "6   https://www.irisplaza.co.jp/index.php?KB=KAISO...  \n",
      "7                             https://francfranc.com/  \n",
      "8                    https://www.muji.com/jp/ja/store  \n",
      "9   https://www.irisplaza.co.jp/index.php?KB=KAISO...  \n",
      "10  https://bruno-onlineshop.com/category/SH_BR_PR...  \n",
      "11  https://www.irisplaza.co.jp/index.php?KB=KAISO...  \n"
     ]
    }
   ],
   "source": [
    "import pandas as pd\n",
    "# データの用意\n",
    "data = {'room-type': ['Simple', 'Faminine', 'Natural', 'Japanese Classic','Nordic style', 'Modern','Simple', 'Faminine', 'Natural', 'Japanese Classic','Nordic style', 'Modern'],\n",
    "        'item': ['インテリア','インテリア','インテリア','インテリア','インテリア','インテリア','ペット用品','ファブリック','ファブリック','ファブリック','電化製品','食器'],\n",
    "     'shop': ['アイリスプラザ', 'Francfranc', '無印良品', 'アイリスプラザ','BRUNO', 'アイリスオオヤマ','アイリスプラザ', 'Francfranc', '無印良品', 'アイリスプラザ','BRUNO', 'アイリスオオヤマ'],\n",
    "        'URL': ['https://www.irisplaza.co.jp/index.php?KB=KAISO&CID=2',\n",
    "                'https://francfranc.com/',\n",
    "                'https://www.muji.com/jp/ja/store',\n",
    "                'https://www.irisplaza.co.jp/index.php?KB=KAISO&CID=2',\n",
    "                'https://bruno-onlineshop.com/category/SH_BR_PR_01_05/?utm_source=yahoo&utm_medium=cpc&utm_campaign=productother&utm_term=%E3%81%8A%E3%81%97%E3%82%83%E3%82%8C%20%E9%A3%9F%E5%99%A8&bno=p_yahoo_prodother&yclid=YSS.1000418622.EAIaIQobChMI5eTyvcf0_AIVjENgCh2haACgEAAYBCAAEgJvPfD_BwE',\n",
    "                'https://www.irisplaza.co.jp/index.php?KB=KAISO&CID=2',\n",
    "                'https://www.irisplaza.co.jp/index.php?KB=KAISO&CID=2',\n",
    "                'https://francfranc.com/',\n",
    "                'https://www.muji.com/jp/ja/store',\n",
    "                'https://www.irisplaza.co.jp/index.php?KB=KAISO&CID=2',\n",
    "                'https://bruno-onlineshop.com/category/SH_BR_PR_01_05/?utm_source=yahoo&utm_medium=cpc&utm_campaign=productother&utm_term=%E3%81%8A%E3%81%97%E3%82%83%E3%82%8C%20%E9%A3%9F%E5%99%A8&bno=p_yahoo_prodother&yclid=YSS.1000418622.EAIaIQobChMI5eTyvcf0_AIVjENgCh2haACgEAAYBCAAEgJvPfD_BwE',\n",
    "                'https://www.irisplaza.co.jp/index.php?KB=KAISO&CID=2'\n",
    "               ]}\n",
    "\n",
    "# データフレームの作成\n",
    "df = pd.DataFrame(data)\n",
    "print(df)\n"
   ]
  },
  {
   "cell_type": "code",
   "execution_count": 9,
   "id": "4826ea63-0b06-496e-ac82-94c8e38fa28e",
   "metadata": {
    "tags": []
   },
   "outputs": [],
   "source": [
    "import pandas as pd\n",
    "import csv\n",
    "\n",
    "# CSVファイルに変換する\n",
    "with open('output.csv', 'w', newline='', encoding='utf-8') as f:\n",
    "    writer = csv.writer(f)\n",
    "    writer.writerow(['room-type', 'item', 'shop', 'URL'])\n",
    "    for index, row in df.iterrows():\n",
    "        writer.writerow([row['room-type'], row['item'], row['shop'], row['URL']])"
   ]
  },
  {
   "cell_type": "code",
   "execution_count": 10,
   "id": "8fd478b6-e78f-464e-af55-eb2814871d0b",
   "metadata": {
    "tags": []
   },
   "outputs": [],
   "source": [
    "import pandas as pd\n",
    "\n",
    "data = {'room-type': ['Simple', 'Faminine', 'Natural', 'Japanese Classic','Nordic style', 'Modern','Simple', 'Faminine', 'Natural', 'Japanese Classic','Nordic style', 'Modern'],\n",
    "        'item': ['インテリア','インテリア','インテリア','インテリア','インテリア','インテリア','ペット用品','ファブリック','ファブリック','ファブリック','電化製品','食器'],\n",
    "     'shop': ['アイリスプラザ', 'Francfranc', '無印良品', 'アイリスプラザ','BRUNO', 'アイリスオオヤマ','アイリスプラザ', 'Francfranc', '無印良品', 'アイリスプラザ','BRUNO', 'アイリスオオヤマ'],\n",
    "        'URL': ['https://www.irisplaza.co.jp/index.php?KB=KAISO&CID=2',\n",
    "                'https://francfranc.com/',\n",
    "                'https://www.muji.com/jp/ja/store',\n",
    "                'https://www.irisplaza.co.jp/index.php?KB=KAISO&CID=2',\n",
    "                'https://bruno-onlineshop.com/category/SH_BR_PR_01_05/?utm_source=yahoo&utm_medium=cpc&utm_campaign=productother&utm_term=%E3%81%8A%E3%81%97%E3%82%83%E3%82%8C%20%E9%A3%9F%E5%99%A8&bno=p_yahoo_prodother&yclid=YSS.1000418622.EAIaIQobChMI5eTyvcf0_AIVjENgCh2haACgEAAYBCAAEgJvPfD_BwE',\n",
    "                'https://www.irisplaza.co.jp/index.php?KB=KAISO&CID=2',\n",
    "                'https://www.irisplaza.co.jp/index.php?KB=KAISO&CID=2',\n",
    "                'https://francfranc.com/',\n",
    "                'https://www.muji.com/jp/ja/store',\n",
    "                'https://www.irisplaza.co.jp/index.php?KB=KAISO&CID=2',\n",
    "                'https://bruno-onlineshop.com/category/SH_BR_PR_01_05/?utm_source=yahoo&utm_medium=cpc&utm_campaign=productother&utm_term=%E3%81%8A%E3%81%97%E3%82%83%E3%82%8C%20%E9%A3%9F%E5%99%A8&bno=p_yahoo_prodother&yclid=YSS.1000418622.EAIaIQobChMI5eTyvcf0_AIVjENgCh2haACgEAAYBCAAEgJvPfD_BwE',\n",
    "                'https://www.irisplaza.co.jp/index.php?KB=KAISO&CID=2'\n",
    "               ]}\n",
    "\n",
    "df = pd.DataFrame(data)\n",
    "\n",
    "df.to_csv(\"おすすめサイト選択肢.csv\", index=False, encoding='utf-8')"
   ]
  },
  {
   "cell_type": "code",
   "execution_count": null,
   "id": "de4179a7-85f6-4e1e-aa3b-ceaee6519f05",
   "metadata": {},
   "outputs": [],
   "source": []
  }
 ],
 "metadata": {
  "kernelspec": {
   "display_name": "Python 3 (ipykernel)",
   "language": "python",
   "name": "python3"
  },
  "language_info": {
   "codemirror_mode": {
    "name": "ipython",
    "version": 3
   },
   "file_extension": ".py",
   "mimetype": "text/x-python",
   "name": "python",
   "nbconvert_exporter": "python",
   "pygments_lexer": "ipython3",
   "version": "3.11.2"
  }
 },
 "nbformat": 4,
 "nbformat_minor": 5
}
